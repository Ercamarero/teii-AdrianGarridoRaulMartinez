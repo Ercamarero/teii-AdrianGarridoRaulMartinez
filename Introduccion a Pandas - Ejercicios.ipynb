{
 "cells": [
  {
   "cell_type": "markdown",
   "id": "39938e2f-7834-4881-8fe0-0091e412f110",
   "metadata": {},
   "source": [
    "# Alumno"
   ]
  },
  {
   "cell_type": "markdown",
   "id": "48332deb-2090-4822-8426-5df5bbaaf0ee",
   "metadata": {},
   "source": [
    "*Sustituid esta frase por vuestros nombres y apellidos.*"
   ]
  },
  {
   "cell_type": "markdown",
   "id": "herbal-cartoon",
   "metadata": {},
   "source": [
    "# Ejercicios de Pandas\n",
    "\n",
    "Antes de empezar, importemos los módulos que vamos a utilizar."
   ]
  },
  {
   "cell_type": "code",
   "execution_count": 1,
   "id": "gross-knitting",
   "metadata": {
    "tags": []
   },
   "outputs": [],
   "source": [
    "import numpy as np\n",
    "import pandas as pd"
   ]
  },
  {
   "cell_type": "markdown",
   "id": "local-sense",
   "metadata": {},
   "source": [
    "## Series"
   ]
  },
  {
   "cell_type": "markdown",
   "id": "sacred-cardiff",
   "metadata": {},
   "source": [
    "### Asigna el nombre \"alfabeto\" a la siguiente serie e imprímela.\n",
    "\n",
    "Pista: [pandas.Series.name](https://pandas.pydata.org/pandas-docs/stable/reference/api/pandas.Series.name.html)"
   ]
  },
  {
   "cell_type": "code",
   "execution_count": 2,
   "id": "foreign-washington",
   "metadata": {
    "tags": []
   },
   "outputs": [
    {
     "data": {
      "text/plain": [
       "0    a\n",
       "1    b\n",
       "2    c\n",
       "3    e\n",
       "4    d\n",
       "dtype: object"
      ]
     },
     "execution_count": 2,
     "metadata": {},
     "output_type": "execute_result"
    }
   ],
   "source": [
    "s = pd.Series(list('abcedfghijklmnopqrstuvwxyz'))\n",
    "s.head()"
   ]
  },
  {
   "cell_type": "code",
   "execution_count": 10,
   "id": "compressed-eight",
   "metadata": {
    "tags": []
   },
   "outputs": [
    {
     "name": "stdout",
     "output_type": "stream",
     "text": [
      "alfabeto\n"
     ]
    }
   ],
   "source": [
    "# Solución\n",
    "s.name= \"alfabeto\"\n",
    "print(s.name)"
   ]
  },
  {
   "cell_type": "markdown",
   "id": "parliamentary-london",
   "metadata": {},
   "source": [
    "### Escribe una expresión que, dadas dos series, diga si todos los elementos de la primera son mayores que los correspondientes de la segunda.\n",
    "\n",
    "Pista: [pandas.Dataframe.all()](https://pandas.pydata.org/pandas-docs/version/1.5/reference/api/pandas.DataFrame.all.html)"
   ]
  },
  {
   "cell_type": "code",
   "execution_count": 53,
   "id": "diagnostic-toner",
   "metadata": {
    "tags": []
   },
   "outputs": [],
   "source": [
    "s1 = pd.Series(np.random.randint(1, 10, size=10))\n",
    "s2 = (s1 + 1)"
   ]
  },
  {
   "cell_type": "code",
   "execution_count": 55,
   "id": "92b7fa21",
   "metadata": {
    "tags": []
   },
   "outputs": [
    {
     "name": "stdout",
     "output_type": "stream",
     "text": [
      "False\n"
     ]
    }
   ],
   "source": [
    "# Solución\n",
    "s3 = (s1>s2).all()\n",
    "print(s3)"
   ]
  },
  {
   "cell_type": "markdown",
   "id": "9cf4f6a1",
   "metadata": {},
   "source": [
    "### Escribe una expresión que, dadas dos series, diga si hay algún elemento de la primera es menor o igual que el correspondiente de la segunda.\n",
    "\n",
    "Pista: [pandas.Dataframe.any()](https://pandas.pydata.org/pandas-docs/version/1.5/reference/api/pandas.DataFrame.any.html)"
   ]
  },
  {
   "cell_type": "code",
   "execution_count": 13,
   "id": "65b40b3b",
   "metadata": {
    "tags": []
   },
   "outputs": [],
   "source": [
    "s1 = pd.Series(np.random.randint(1, 10, size=10))\n",
    "s2 = pd.Series(np.random.randint(1, 10, size=10))"
   ]
  },
  {
   "cell_type": "code",
   "execution_count": 23,
   "id": "better-cleaners",
   "metadata": {
    "tags": []
   },
   "outputs": [
    {
     "name": "stdout",
     "output_type": "stream",
     "text": [
      "True\n"
     ]
    }
   ],
   "source": [
    "# Solución\n",
    "s3 = (s1<=s2).any()\n",
    "print(s3)"
   ]
  },
  {
   "cell_type": "markdown",
   "id": "public-royal",
   "metadata": {},
   "source": [
    "### Extrae todos los elementos de la serie dada que se encuentran en las posiciones indicadas por una lista."
   ]
  },
  {
   "cell_type": "code",
   "execution_count": 15,
   "id": "dedicated-treasurer",
   "metadata": {
    "tags": []
   },
   "outputs": [],
   "source": [
    "serie = pd.Series(list('abcdefghijklmnopqrstuvwxyz'))\n",
    "posicion = [0, 4, 8, 14, 20]"
   ]
  },
  {
   "cell_type": "code",
   "execution_count": 17,
   "id": "incorporate-telephone",
   "metadata": {
    "tags": []
   },
   "outputs": [
    {
     "data": {
      "text/plain": [
       "0     a\n",
       "4     e\n",
       "8     i\n",
       "14    o\n",
       "20    u\n",
       "dtype: object"
      ]
     },
     "execution_count": 17,
     "metadata": {},
     "output_type": "execute_result"
    }
   ],
   "source": [
    "# Solución\n",
    "serie.iloc[posicion]"
   ]
  },
  {
   "cell_type": "markdown",
   "id": "photographic-renaissance",
   "metadata": {},
   "source": [
    "### Construye una serie que sea el resultado de concatenar a una serie dada los elementos de otra.\n",
    "\n",
    "Muestra el resultado de concatenar `s1` y `s2`, y responde a estas preguntas: ¿Qué ha sucedido con el índice? ¿Cuál es el tipo de datos de la serie resultante? ¿Qué sucede si indexamos la serie con el índice `0`?\n",
    "\n",
    "Pista: [pandas.concat](https://pandas.pydata.org/pandas-docs/version/1.5/reference/api/pandas.concat.html)"
   ]
  },
  {
   "cell_type": "code",
   "execution_count": null,
   "id": "classical-access",
   "metadata": {
    "tags": []
   },
   "outputs": [],
   "source": [
    "s1 = pd.Series(range(5))\n",
    "s2 = pd.Series([0.2, 0.3, 0.4])"
   ]
  },
  {
   "cell_type": "code",
   "execution_count": null,
   "id": "warming-document",
   "metadata": {
    "tags": []
   },
   "outputs": [],
   "source": [
    "# Solución y respuestas a las preguntas\n"
   ]
  },
  {
   "cell_type": "markdown",
   "id": "surface-baghdad",
   "metadata": {},
   "source": [
    "### Ordena una serie, primero por el valor del índice y después por el valor de la serie, e imprímelas.\n",
    "\n",
    "Pistas: [pandas.Series.sort_index()](https://pandas.pydata.org/pandas-docs/stable/reference/api/pandas.Series.sort_index.html) y [pandas.Series.sort_values()](https://pandas.pydata.org/docs/reference/api/pandas.Series.sort_values.html)"
   ]
  },
  {
   "cell_type": "code",
   "execution_count": 31,
   "id": "4a170f64",
   "metadata": {},
   "outputs": [
    {
     "name": "stdout",
     "output_type": "stream",
     "text": [
      "3    1\n",
      "5    0\n",
      "1    4\n",
      "dtype: int64\n"
     ]
    }
   ],
   "source": [
    "serie = pd.Series({3: 1, 5: 0, 1: 4})\n",
    "print(serie)"
   ]
  },
  {
   "cell_type": "code",
   "execution_count": 35,
   "id": "governmental-express",
   "metadata": {
    "tags": []
   },
   "outputs": [
    {
     "name": "stdout",
     "output_type": "stream",
     "text": [
      "1    4\n",
      "3    1\n",
      "5    0\n",
      "dtype: int64 5    0\n",
      "3    1\n",
      "1    4\n",
      "dtype: int64\n"
     ]
    }
   ],
   "source": [
    "# Solución\n",
    "s1 = serie.sort_index()\n",
    "s2 = serie.sort_values()\n",
    "print(s1,s2)"
   ]
  },
  {
   "cell_type": "markdown",
   "id": "introductory-lancaster",
   "metadata": {},
   "source": [
    "### Calcula la media del error cuadrático entre dos series.\n",
    "\n",
    "Nota: La fórmula del error cuadrático entre $x$ e $y$ es $(x - y)^2$."
   ]
  },
  {
   "cell_type": "code",
   "execution_count": 46,
   "id": "turned-meaning",
   "metadata": {
    "tags": []
   },
   "outputs": [
    {
     "name": "stdout",
     "output_type": "stream",
     "text": [
      "0    0\n",
      "1    1\n",
      "2    2\n",
      "3    3\n",
      "4    4\n",
      "5    5\n",
      "6    6\n",
      "7    7\n",
      "8    8\n",
      "9    9\n",
      "dtype: int64\n",
      "0    0.548814\n",
      "1    1.715189\n",
      "2    2.602763\n",
      "3    3.544883\n",
      "4    4.423655\n",
      "5    5.645894\n",
      "6    6.437587\n",
      "7    7.891773\n",
      "8    8.963663\n",
      "9    9.383442\n",
      "dtype: float64\n"
     ]
    }
   ],
   "source": [
    "np.random.seed(0)\n",
    "x = pd.Series(range(10))\n",
    "y = pd.Series(range(10)) + np.random.random(10)\n",
    "print(x)\n",
    "print(y)"
   ]
  },
  {
   "cell_type": "code",
   "execution_count": 50,
   "id": "vanilla-species",
   "metadata": {
    "tags": []
   },
   "outputs": [
    {
     "name": "stdout",
     "output_type": "stream",
     "text": [
      "0.41319910235287544\n"
     ]
    }
   ],
   "source": [
    "# Solución\n",
    "s1 = (x-y)**2\n",
    "print(s1.mean())\n"
   ]
  },
  {
   "cell_type": "markdown",
   "id": "wrapped-trail",
   "metadata": {},
   "source": [
    "### Convierte la siguiente serie de fechas introducidas como cadenas a una serie de tipo `datetime` llamada `fechasdt`. \n",
    "\n",
    "Pista: [pandas.to_datetime()](https://pandas.pydata.org/pandas-docs/version/1.5/reference/api/pandas.to_datetime.html)"
   ]
  },
  {
   "cell_type": "code",
   "execution_count": 63,
   "id": "premium-emperor",
   "metadata": {
    "tags": []
   },
   "outputs": [],
   "source": [
    "fechas = pd.Series(['02 Jan 2010T00:00:01',\n",
    "                    '02-02-2011',\n",
    "                    '20120303',\n",
    "                    '2013/04/04',\n",
    "                    '2014-05-05',\n",
    "                    '2015-06-06T12:20'])"
   ]
  },
  {
   "cell_type": "code",
   "execution_count": 64,
   "id": "sacred-quick",
   "metadata": {
    "tags": []
   },
   "outputs": [
    {
     "ename": "ValueError",
     "evalue": "time data \"02-02-2011\" doesn't match format \"%d %b %YT%H:%M:%S\", at position 1. You might want to try:\n    - passing `format` if your strings have a consistent format;\n    - passing `format='ISO8601'` if your strings are all ISO8601 but not necessarily in exactly the same format;\n    - passing `format='mixed'`, and the format will be inferred for each element individually. You might want to use `dayfirst` alongside this.",
     "output_type": "error",
     "traceback": [
      "\u001b[0;31m---------------------------------------------------------------------------\u001b[0m",
      "\u001b[0;31mValueError\u001b[0m                                Traceback (most recent call last)",
      "Cell \u001b[0;32mIn[64], line 2\u001b[0m\n\u001b[1;32m      1\u001b[0m \u001b[38;5;66;03m# Solución\u001b[39;00m\n\u001b[0;32m----> 2\u001b[0m fechasdt \u001b[38;5;241m=\u001b[39m \u001b[43mpd\u001b[49m\u001b[38;5;241;43m.\u001b[39;49m\u001b[43mto_datetime\u001b[49m\u001b[43m(\u001b[49m\u001b[43mfechas\u001b[49m\u001b[43m)\u001b[49m\n",
      "File \u001b[0;32m~/.pyenv/versions/3.8.18/envs/venv-teii/lib/python3.8/site-packages/pandas/core/tools/datetimes.py:1050\u001b[0m, in \u001b[0;36mto_datetime\u001b[0;34m(arg, errors, dayfirst, yearfirst, utc, format, exact, unit, infer_datetime_format, origin, cache)\u001b[0m\n\u001b[1;32m   1048\u001b[0m         result \u001b[38;5;241m=\u001b[39m arg\u001b[38;5;241m.\u001b[39mmap(cache_array)\n\u001b[1;32m   1049\u001b[0m     \u001b[38;5;28;01melse\u001b[39;00m:\n\u001b[0;32m-> 1050\u001b[0m         values \u001b[38;5;241m=\u001b[39m \u001b[43mconvert_listlike\u001b[49m\u001b[43m(\u001b[49m\u001b[43marg\u001b[49m\u001b[38;5;241;43m.\u001b[39;49m\u001b[43m_values\u001b[49m\u001b[43m,\u001b[49m\u001b[43m \u001b[49m\u001b[38;5;28;43mformat\u001b[39;49m\u001b[43m)\u001b[49m\n\u001b[1;32m   1051\u001b[0m         result \u001b[38;5;241m=\u001b[39m arg\u001b[38;5;241m.\u001b[39m_constructor(values, index\u001b[38;5;241m=\u001b[39marg\u001b[38;5;241m.\u001b[39mindex, name\u001b[38;5;241m=\u001b[39marg\u001b[38;5;241m.\u001b[39mname)\n\u001b[1;32m   1052\u001b[0m \u001b[38;5;28;01melif\u001b[39;00m \u001b[38;5;28misinstance\u001b[39m(arg, (ABCDataFrame, abc\u001b[38;5;241m.\u001b[39mMutableMapping)):\n",
      "File \u001b[0;32m~/.pyenv/versions/3.8.18/envs/venv-teii/lib/python3.8/site-packages/pandas/core/tools/datetimes.py:453\u001b[0m, in \u001b[0;36m_convert_listlike_datetimes\u001b[0;34m(arg, format, name, utc, unit, errors, dayfirst, yearfirst, exact)\u001b[0m\n\u001b[1;32m    451\u001b[0m \u001b[38;5;66;03m# `format` could be inferred, or user didn't ask for mixed-format parsing.\u001b[39;00m\n\u001b[1;32m    452\u001b[0m \u001b[38;5;28;01mif\u001b[39;00m \u001b[38;5;28mformat\u001b[39m \u001b[38;5;129;01mis\u001b[39;00m \u001b[38;5;129;01mnot\u001b[39;00m \u001b[38;5;28;01mNone\u001b[39;00m \u001b[38;5;129;01mand\u001b[39;00m \u001b[38;5;28mformat\u001b[39m \u001b[38;5;241m!=\u001b[39m \u001b[38;5;124m\"\u001b[39m\u001b[38;5;124mmixed\u001b[39m\u001b[38;5;124m\"\u001b[39m:\n\u001b[0;32m--> 453\u001b[0m     \u001b[38;5;28;01mreturn\u001b[39;00m \u001b[43m_array_strptime_with_fallback\u001b[49m\u001b[43m(\u001b[49m\u001b[43marg\u001b[49m\u001b[43m,\u001b[49m\u001b[43m \u001b[49m\u001b[43mname\u001b[49m\u001b[43m,\u001b[49m\u001b[43m \u001b[49m\u001b[43mutc\u001b[49m\u001b[43m,\u001b[49m\u001b[43m \u001b[49m\u001b[38;5;28;43mformat\u001b[39;49m\u001b[43m,\u001b[49m\u001b[43m \u001b[49m\u001b[43mexact\u001b[49m\u001b[43m,\u001b[49m\u001b[43m \u001b[49m\u001b[43merrors\u001b[49m\u001b[43m)\u001b[49m\n\u001b[1;32m    455\u001b[0m result, tz_parsed \u001b[38;5;241m=\u001b[39m objects_to_datetime64ns(\n\u001b[1;32m    456\u001b[0m     arg,\n\u001b[1;32m    457\u001b[0m     dayfirst\u001b[38;5;241m=\u001b[39mdayfirst,\n\u001b[0;32m   (...)\u001b[0m\n\u001b[1;32m    461\u001b[0m     allow_object\u001b[38;5;241m=\u001b[39m\u001b[38;5;28;01mTrue\u001b[39;00m,\n\u001b[1;32m    462\u001b[0m )\n\u001b[1;32m    464\u001b[0m \u001b[38;5;28;01mif\u001b[39;00m tz_parsed \u001b[38;5;129;01mis\u001b[39;00m \u001b[38;5;129;01mnot\u001b[39;00m \u001b[38;5;28;01mNone\u001b[39;00m:\n\u001b[1;32m    465\u001b[0m     \u001b[38;5;66;03m# We can take a shortcut since the datetime64 numpy array\u001b[39;00m\n\u001b[1;32m    466\u001b[0m     \u001b[38;5;66;03m# is in UTC\u001b[39;00m\n",
      "File \u001b[0;32m~/.pyenv/versions/3.8.18/envs/venv-teii/lib/python3.8/site-packages/pandas/core/tools/datetimes.py:484\u001b[0m, in \u001b[0;36m_array_strptime_with_fallback\u001b[0;34m(arg, name, utc, fmt, exact, errors)\u001b[0m\n\u001b[1;32m    473\u001b[0m \u001b[38;5;28;01mdef\u001b[39;00m \u001b[38;5;21m_array_strptime_with_fallback\u001b[39m(\n\u001b[1;32m    474\u001b[0m     arg,\n\u001b[1;32m    475\u001b[0m     name,\n\u001b[0;32m   (...)\u001b[0m\n\u001b[1;32m    479\u001b[0m     errors: \u001b[38;5;28mstr\u001b[39m,\n\u001b[1;32m    480\u001b[0m ) \u001b[38;5;241m-\u001b[39m\u001b[38;5;241m>\u001b[39m Index:\n\u001b[1;32m    481\u001b[0m \u001b[38;5;250m    \u001b[39m\u001b[38;5;124;03m\"\"\"\u001b[39;00m\n\u001b[1;32m    482\u001b[0m \u001b[38;5;124;03m    Call array_strptime, with fallback behavior depending on 'errors'.\u001b[39;00m\n\u001b[1;32m    483\u001b[0m \u001b[38;5;124;03m    \"\"\"\u001b[39;00m\n\u001b[0;32m--> 484\u001b[0m     result, timezones \u001b[38;5;241m=\u001b[39m \u001b[43marray_strptime\u001b[49m\u001b[43m(\u001b[49m\u001b[43marg\u001b[49m\u001b[43m,\u001b[49m\u001b[43m \u001b[49m\u001b[43mfmt\u001b[49m\u001b[43m,\u001b[49m\u001b[43m \u001b[49m\u001b[43mexact\u001b[49m\u001b[38;5;241;43m=\u001b[39;49m\u001b[43mexact\u001b[49m\u001b[43m,\u001b[49m\u001b[43m \u001b[49m\u001b[43merrors\u001b[49m\u001b[38;5;241;43m=\u001b[39;49m\u001b[43merrors\u001b[49m\u001b[43m,\u001b[49m\u001b[43m \u001b[49m\u001b[43mutc\u001b[49m\u001b[38;5;241;43m=\u001b[39;49m\u001b[43mutc\u001b[49m\u001b[43m)\u001b[49m\n\u001b[1;32m    485\u001b[0m     \u001b[38;5;28;01mif\u001b[39;00m \u001b[38;5;28many\u001b[39m(tz \u001b[38;5;129;01mis\u001b[39;00m \u001b[38;5;129;01mnot\u001b[39;00m \u001b[38;5;28;01mNone\u001b[39;00m \u001b[38;5;28;01mfor\u001b[39;00m tz \u001b[38;5;129;01min\u001b[39;00m timezones):\n\u001b[1;32m    486\u001b[0m         \u001b[38;5;28;01mreturn\u001b[39;00m _return_parsed_timezone_results(result, timezones, utc, name)\n",
      "File \u001b[0;32m~/.pyenv/versions/3.8.18/envs/venv-teii/lib/python3.8/site-packages/pandas/_libs/tslibs/strptime.pyx:530\u001b[0m, in \u001b[0;36mpandas._libs.tslibs.strptime.array_strptime\u001b[0;34m()\u001b[0m\n",
      "File \u001b[0;32m~/.pyenv/versions/3.8.18/envs/venv-teii/lib/python3.8/site-packages/pandas/_libs/tslibs/strptime.pyx:351\u001b[0m, in \u001b[0;36mpandas._libs.tslibs.strptime.array_strptime\u001b[0;34m()\u001b[0m\n",
      "\u001b[0;31mValueError\u001b[0m: time data \"02-02-2011\" doesn't match format \"%d %b %YT%H:%M:%S\", at position 1. You might want to try:\n    - passing `format` if your strings have a consistent format;\n    - passing `format='ISO8601'` if your strings are all ISO8601 but not necessarily in exactly the same format;\n    - passing `format='mixed'`, and the format will be inferred for each element individually. You might want to use `dayfirst` alongside this."
     ]
    }
   ],
   "source": [
    "# Solución\n",
    "fechasdt = pd.to_datetime(fechas)"
   ]
  },
  {
   "cell_type": "markdown",
   "id": "polar-carpet",
   "metadata": {},
   "source": [
    "### Crea tres series a partir de la serie `fechasdt` anterior llamadas `days`, `months` y `years`, donde cada una contenga el día, el mes y el año de cada fecha, respectivamente.\n",
    "\n",
    "Pista: Una serie del tipo `datetime` tiene un atributo `.dt` con métodos para acceder al día, mes y año, por ejemplo, [pandas.Series.dt.day()](https://pandas.pydata.org/pandas-docs/version/1.5/reference/api/pandas.Series.dt.day.html)."
   ]
  },
  {
   "cell_type": "code",
   "execution_count": null,
   "id": "automatic-democrat",
   "metadata": {
    "tags": []
   },
   "outputs": [],
   "source": [
    "# Solución\n"
   ]
  },
  {
   "cell_type": "markdown",
   "id": "intelligent-sponsorship",
   "metadata": {},
   "source": [
    "### Crea una serie con valores aleatorios enteros entre 1 y 10, pero cuyo índice tenga 12 objetos del tipo `datetime` con el primer día de cada mes del año 2024\n",
    "\n",
    "El índice deben empezar por el **01-01-2024** y terminar en el **01-12-20243**.\n",
    "\n",
    "Pistas: [numpy.random.randint](https://numpy.org/doc/stable/reference/random/generated/numpy.random.randint.html()) y [pandas.date_range()](https://pandas.pydata.org/pandas-docs/version/1.5/reference/api/pandas.date_range.html)"
   ]
  },
  {
   "cell_type": "code",
   "execution_count": null,
   "id": "neural-trauma",
   "metadata": {
    "tags": []
   },
   "outputs": [],
   "source": [
    "# Solución\n"
   ]
  },
  {
   "cell_type": "markdown",
   "id": "bibliographic-think",
   "metadata": {},
   "source": [
    "## DataFrames"
   ]
  },
  {
   "cell_type": "markdown",
   "id": "elementary-assistant",
   "metadata": {},
   "source": [
    "### Dadas las siguientes series que representan frutas, precio y peso comprado de cada una de ellas, construye un `Dataframe` y obtén tanto el precio medio como el peso medio de cada tipo de fruta.\n",
    "\n",
    "Pista: [pandas.Series.groupby()](https://pandas.pydata.org/pandas-docs/version/1.5/reference/api/pandas.Series.groupby.html)"
   ]
  },
  {
   "cell_type": "code",
   "execution_count": null,
   "id": "baking-guatemala",
   "metadata": {},
   "outputs": [],
   "source": [
    "np.random.seed(0)\n",
    "frutas = pd.Series(np.random.choice(['manzana', 'banana', 'zanahoria'], 10))\n",
    "precios = pd.Series(np.random.sample(10) * 3)\n",
    "pesos = pd.Series(np.random.randint(1, 5, 10))\n",
    "\n",
    "print(frutas.tolist())\n",
    "print(precios.tolist())\n",
    "print(pesos.tolist())"
   ]
  },
  {
   "cell_type": "code",
   "execution_count": null,
   "id": "charitable-pixel",
   "metadata": {
    "tags": []
   },
   "outputs": [],
   "source": [
    "# Solución\n"
   ]
  },
  {
   "cell_type": "markdown",
   "id": "willing-mistress",
   "metadata": {
    "tags": []
   },
   "source": [
    "### Crea un `DataFrame` a partir del archivo `planets.csv` seleccionando solamente las columnas `method`,  `year` y `distance`, y calcula el número elementos que tiene.\n",
    "\n",
    "Pista: [pandas.read_csv](https://pandas.pydata.org/pandas-docs/stable/reference/api/pandas.read_csv.html)"
   ]
  },
  {
   "cell_type": "code",
   "execution_count": null,
   "id": "brutal-elder",
   "metadata": {
    "tags": []
   },
   "outputs": [],
   "source": [
    "# Solución\n"
   ]
  },
  {
   "cell_type": "markdown",
   "id": "8d603eda",
   "metadata": {},
   "source": [
    "### Calcula cuantos planetas se han descubierto usando cada método de detección a partir del *dataset* de planetas anterior."
   ]
  },
  {
   "cell_type": "code",
   "execution_count": null,
   "id": "e91c6ae2",
   "metadata": {},
   "outputs": [],
   "source": [
    "# Solución\n"
   ]
  },
  {
   "cell_type": "markdown",
   "id": "dbb0dadf",
   "metadata": {},
   "source": [
    "### Determina en qué año se descubrieron más planetas a partir del *dataset* de planetas anterior."
   ]
  },
  {
   "cell_type": "code",
   "execution_count": null,
   "id": "49101064",
   "metadata": {},
   "outputs": [],
   "source": [
    "# Solución\n"
   ]
  },
  {
   "cell_type": "markdown",
   "id": "adverse-surprise",
   "metadata": {},
   "source": [
    "### Create un `DataFrame` a partir del *dataset* de coches [Cars93_miss.csv](https://raw.githubusercontent.com/selva86/datasets/master/Cars93_miss.csv), y encuentra el fabricante, modelo, tipo y precio del coche más caro (solamente deben devolverse esas columnas).\n",
    "\n",
    "En primer lugar, crea el dataset a partir de la URL anterior:"
   ]
  },
  {
   "cell_type": "code",
   "execution_count": null,
   "id": "attractive-priority",
   "metadata": {
    "tags": []
   },
   "outputs": [],
   "source": [
    "# Solución\n"
   ]
  },
  {
   "cell_type": "markdown",
   "id": "ce3212f3",
   "metadata": {},
   "source": [
    "Luego, muestra el precio del coche más caro, para lo cual puedes usar [pandas.DataFrame.max()](https://pandas.pydata.org/pandas-docs/version/1.5/reference/api/pandas.DataFrame.max.html):"
   ]
  },
  {
   "cell_type": "code",
   "execution_count": null,
   "id": "12d97868",
   "metadata": {
    "tags": []
   },
   "outputs": [],
   "source": [
    "# Solución\n"
   ]
  },
  {
   "cell_type": "markdown",
   "id": "b01132a8",
   "metadata": {},
   "source": [
    "A continuación, genera una serie de valores booleanos con el resultado de la comparación con dicho precio:"
   ]
  },
  {
   "cell_type": "code",
   "execution_count": null,
   "id": "b7a4713e",
   "metadata": {
    "tags": []
   },
   "outputs": [],
   "source": [
    "# Solución\n"
   ]
  },
  {
   "cell_type": "markdown",
   "id": "b84c063f",
   "metadata": {},
   "source": [
    "A partir de la expresión anterior, obtén la fila del dataframe que cumple la condición de precio máximo con [pandas.DataFrame.loc()](https://pandas.pydata.org/pandas-docs/version/1.5/reference/api/pandas.DataFrame.loc.html): "
   ]
  },
  {
   "cell_type": "code",
   "execution_count": null,
   "id": "a879df30",
   "metadata": {
    "tags": []
   },
   "outputs": [],
   "source": [
    "# Solución\n"
   ]
  },
  {
   "cell_type": "markdown",
   "id": "b62675e5",
   "metadata": {},
   "source": [
    "Por último, selecciona únicamente las columnas del dataframe indicadas (fabricante, modelo, tipo, precio):"
   ]
  },
  {
   "cell_type": "code",
   "execution_count": null,
   "id": "linear-boundary",
   "metadata": {
    "tags": []
   },
   "outputs": [],
   "source": [
    "# Solución\n"
   ]
  },
  {
   "cell_type": "markdown",
   "id": "younger-ivory",
   "metadata": {},
   "source": [
    "### Calcula una nueva columna `Norm.price` en el *dataset* de coches anterior con el precio normalizado con respecto a su valor máximo y mínimo ().\n",
    "\n",
    "Nota: Esta normalización se realiza con la siguiente operación: $(precio - precioMinimo)/(precioMaximo - precioMinimo)$"
   ]
  },
  {
   "cell_type": "code",
   "execution_count": null,
   "id": "boring-married",
   "metadata": {
    "tags": []
   },
   "outputs": [],
   "source": [
    "# Solución\n"
   ]
  },
  {
   "cell_type": "markdown",
   "id": "considerable-mobility",
   "metadata": {},
   "source": [
    "### Encuentra los tres vehículos con mayor precio (`Price`), ignorando los que no tengan precio asignado (NaN), en el *dataset* de coches anterior.\n",
    "\n",
    "Pista: Averigua para qué sirve el parámetro `subset` de [pandas.DataFrame.dropna()](https://pandas.pydata.org/pandas-docs/version/1.5/reference/api/pandas.DataFrame.dropna.html)."
   ]
  },
  {
   "cell_type": "code",
   "execution_count": null,
   "id": "0a2f58fa",
   "metadata": {
    "tags": []
   },
   "outputs": [],
   "source": [
    "# Solución\n"
   ]
  },
  {
   "cell_type": "markdown",
   "id": "0d0ed5c0-046a-4b1c-b6ef-e3b08f41d8fe",
   "metadata": {
    "tags": []
   },
   "source": [
    "### Crea un `DataFrame` a partir del archivo `california_cities.csv` y muestra la población total de la ciudad con más habitantes (se deben mostrar las columnas `city` y `population_total`)."
   ]
  },
  {
   "cell_type": "code",
   "execution_count": null,
   "id": "6ecfa4f6-e471-4dd7-a79b-7fcca86e0051",
   "metadata": {
    "tags": []
   },
   "outputs": [],
   "source": [
    "# Solución\n"
   ]
  },
  {
   "cell_type": "markdown",
   "id": "cb906059",
   "metadata": {},
   "source": [
    "### Determina cuál es la población de la ciudad más septentional de California a partir del *dataset* de ciudades anterior (se deben mostrar las columnas `city`, `latd` y `population_total`)."
   ]
  },
  {
   "cell_type": "code",
   "execution_count": null,
   "id": "dd2354da",
   "metadata": {},
   "outputs": [],
   "source": [
    "# Solución\n"
   ]
  },
  {
   "cell_type": "markdown",
   "id": "ff65e6f2",
   "metadata": {},
   "source": [
    "### Calcula la densidad de población de la ciudad de California que se encuentra a mayor altitud a partir del *dataset* de ciudades anterior (se deben mostrar las columnas `city`, `elevation_m` y `area_total_km2`, así cómo la densidad de población total en habitantes por kilómetro cuadrado)"
   ]
  },
  {
   "cell_type": "code",
   "execution_count": null,
   "id": "65fa0586",
   "metadata": {},
   "outputs": [],
   "source": [
    "# Solución"
   ]
  }
 ],
 "metadata": {
  "kernelspec": {
   "display_name": "Python 3 (ipykernel)",
   "language": "python",
   "name": "python3"
  },
  "language_info": {
   "codemirror_mode": {
    "name": "ipython",
    "version": 3
   },
   "file_extension": ".py",
   "mimetype": "text/x-python",
   "name": "python",
   "nbconvert_exporter": "python",
   "pygments_lexer": "ipython3",
   "version": "3.8.18"
  },
  "toc": {
   "base_numbering": 1,
   "nav_menu": {},
   "number_sections": true,
   "sideBar": true,
   "skip_h1_title": false,
   "title_cell": "Tabla de contenidos",
   "title_sidebar": "Contents",
   "toc_cell": true,
   "toc_position": {
    "height": "calc(100% - 180px)",
    "left": "10px",
    "top": "150px",
    "width": "376.35px"
   },
   "toc_section_display": true,
   "toc_window_display": true
  },
  "toc-autonumbering": true
 },
 "nbformat": 4,
 "nbformat_minor": 5
}
