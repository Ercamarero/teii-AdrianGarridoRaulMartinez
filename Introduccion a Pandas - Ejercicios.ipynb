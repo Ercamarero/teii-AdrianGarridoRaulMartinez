{
 "cells": [
  {
   "cell_type": "markdown",
   "id": "39938e2f-7834-4881-8fe0-0091e412f110",
   "metadata": {},
   "source": [
    "# Alumno"
   ]
  },
  {
   "cell_type": "markdown",
   "id": "48332deb-2090-4822-8426-5df5bbaaf0ee",
   "metadata": {},
   "source": [
    "*Sustituid esta frase por vuestros nombres y apellidos.*"
   ]
  },
  {
   "cell_type": "markdown",
   "id": "herbal-cartoon",
   "metadata": {},
   "source": [
    "# Ejercicios de Pandas\n",
    "\n",
    "Antes de empezar, importemos los módulos que vamos a utilizar."
   ]
  },
  {
   "cell_type": "code",
   "execution_count": null,
   "id": "gross-knitting",
   "metadata": {
    "tags": []
   },
   "outputs": [],
   "source": [
    "import numpy as np\n",
    "import pandas as pd"
   ]
  },
  {
   "cell_type": "markdown",
   "id": "local-sense",
   "metadata": {},
   "source": [
    "## Series"
   ]
  },
  {
   "cell_type": "markdown",
   "id": "sacred-cardiff",
   "metadata": {},
   "source": [
    "### Asigna el nombre \"alfabeto\" a la siguiente serie e imprímela.\n",
    "\n",
    "Pista: [pandas.Series.name](https://pandas.pydata.org/pandas-docs/stable/reference/api/pandas.Series.name.html)"
   ]
  },
  {
   "cell_type": "code",
   "execution_count": null,
   "id": "foreign-washington",
   "metadata": {
    "tags": []
   },
   "outputs": [],
   "source": [
    "s = pd.Series(list('abcedfghijklmnopqrstuvwxyz'))\n",
    "s.head()"
   ]
  },
  {
   "cell_type": "code",
   "execution_count": null,
   "id": "compressed-eight",
   "metadata": {
    "tags": []
   },
   "outputs": [],
   "source": [
    "# Solución\n",
    "s.name= \"alfabeto\"\n",
    "print(s)"
   ]
  },
  {
   "cell_type": "markdown",
   "id": "parliamentary-london",
   "metadata": {},
   "source": [
    "### Escribe una expresión que, dadas dos series, diga si todos los elementos de la primera son mayores que los correspondientes de la segunda.\n",
    "\n",
    "Pista: [pandas.Dataframe.all()](https://pandas.pydata.org/pandas-docs/version/1.5/reference/api/pandas.DataFrame.all.html)"
   ]
  },
  {
   "cell_type": "code",
   "execution_count": null,
   "id": "diagnostic-toner",
   "metadata": {
    "tags": []
   },
   "outputs": [],
   "source": [
    "s1 = pd.Series(np.random.randint(1, 10, size=10))\n",
    "s2 = s1 + 1"
   ]
  },
  {
   "cell_type": "code",
   "execution_count": null,
   "id": "92b7fa21",
   "metadata": {
    "tags": []
   },
   "outputs": [],
   "source": [
    "# Solución\n",
    "(s2>s1).all()"
   ]
  },
  {
   "cell_type": "markdown",
   "id": "9cf4f6a1",
   "metadata": {},
   "source": [
    "### Escribe una expresión que, dadas dos series, diga si hay algún elemento de la primera es menor o igual que el correspondiente de la segunda.\n",
    "\n",
    "Pista: [pandas.Dataframe.any()](https://pandas.pydata.org/pandas-docs/version/1.5/reference/api/pandas.DataFrame.any.html)"
   ]
  },
  {
   "cell_type": "code",
   "execution_count": null,
   "id": "65b40b3b",
   "metadata": {
    "tags": []
   },
   "outputs": [],
   "source": [
    "s1 = pd.Series(np.random.randint(1, 10, size=10))\n",
    "s2 = pd.Series(np.random.randint(1, 10, size=10))"
   ]
  },
  {
   "cell_type": "code",
   "execution_count": null,
   "id": "better-cleaners",
   "metadata": {
    "tags": []
   },
   "outputs": [],
   "source": [
    "# Solución\n",
    "lt = s1<s2\n",
    "pd.DataFrame.any(lt)"
   ]
  },
  {
   "cell_type": "markdown",
   "id": "public-royal",
   "metadata": {},
   "source": [
    "### Extrae todos los elementos de la serie dada que se encuentran en las posiciones indicadas por una lista."
   ]
  },
  {
   "cell_type": "code",
   "execution_count": null,
   "id": "dedicated-treasurer",
   "metadata": {
    "tags": []
   },
   "outputs": [],
   "source": [
    "serie = pd.Series(list('abcdefghijklmnopqrstuvwxyz'))\n",
    "posicion = [0, 4, 8, 14, 20]"
   ]
  },
  {
   "cell_type": "code",
   "execution_count": null,
   "id": "incorporate-telephone",
   "metadata": {
    "tags": []
   },
   "outputs": [],
   "source": [
    "# Solución\n",
    "serie[posicion]"
   ]
  },
  {
   "cell_type": "markdown",
   "id": "photographic-renaissance",
   "metadata": {},
   "source": [
    "### Construye una serie que sea el resultado de concatenar a una serie dada los elementos de otra.\n",
    "\n",
    "Muestra el resultado de concatenar `s1` y `s2`, y responde a estas preguntas: ¿Qué ha sucedido con el índice? ¿Cuál es el tipo de datos de la serie resultante? ¿Qué sucede si indexamos la serie con el índice `0`?\n",
    "\n",
    "Pista: [pandas.concat](https://pandas.pydata.org/pandas-docs/version/1.5/reference/api/pandas.concat.html)"
   ]
  },
  {
   "cell_type": "code",
   "execution_count": null,
   "id": "classical-access",
   "metadata": {
    "tags": []
   },
   "outputs": [],
   "source": [
    "s1 = pd.Series(range(5))\n",
    "s2 = pd.Series([0.2, 0.3, 0.4])"
   ]
  },
  {
   "cell_type": "code",
   "execution_count": null,
   "id": "warming-document",
   "metadata": {
    "tags": []
   },
   "outputs": [],
   "source": [
    "# Solución y respuestas a las preguntas\n",
    "print(s1)\n",
    "\n",
    "print(s2)\n",
    "\n",
    "s3 = pd.concat([s1, s2])\n",
    "\n",
    "#Los indices se han mantenido como en las series originales, y el tipo de datos es el más general, en este caso float64\n",
    "s3[0]\n",
    "#Al indexar con el 0 se recuperan todos los valores con índice 0\n"
   ]
  },
  {
   "cell_type": "markdown",
   "id": "surface-baghdad",
   "metadata": {},
   "source": [
    "### Ordena una serie, primero por el valor del índice y después por el valor de la serie, e imprímelas.\n",
    "\n",
    "Pistas: [pandas.Series.sort_index()](https://pandas.pydata.org/pandas-docs/stable/reference/api/pandas.Series.sort_index.html) y [pandas.Series.sort_values()](https://pandas.pydata.org/docs/reference/api/pandas.Series.sort_values.html)"
   ]
  },
  {
   "cell_type": "code",
   "execution_count": null,
   "id": "4a170f64",
   "metadata": {},
   "outputs": [],
   "source": [
    "serie = pd.Series({3: 1, 5: 0, 1: 4})\n",
    "print(serie)"
   ]
  },
  {
   "cell_type": "code",
   "execution_count": null,
   "id": "governmental-express",
   "metadata": {
    "tags": []
   },
   "outputs": [],
   "source": [
    "# Solución\n",
    "indice = pd.Series.sort_index(serie)\n",
    "valores = pd.Series.sort_values(serie)\n",
    "print(serie)\n",
    "print(indice)\n",
    "print(valores)"
   ]
  },
  {
   "cell_type": "markdown",
   "id": "introductory-lancaster",
   "metadata": {},
   "source": [
    "### Calcula la media del error cuadrático entre dos series.\n",
    "\n",
    "Nota: La fórmula del error cuadrático entre $x$ e $y$ es $(x - y)^2$."
   ]
  },
  {
   "cell_type": "code",
   "execution_count": null,
   "id": "turned-meaning",
   "metadata": {
    "tags": []
   },
   "outputs": [],
   "source": [
    "np.random.seed(0)\n",
    "x = pd.Series(range(10))\n",
    "y = pd.Series(range(10)) + np.random.random(10)\n",
    "print(x)\n",
    "print(y)"
   ]
  },
  {
   "cell_type": "code",
   "execution_count": null,
   "id": "vanilla-species",
   "metadata": {
    "tags": []
   },
   "outputs": [],
   "source": [
    "# Solución\n",
    "error = (x-y)**2\n",
    "error"
   ]
  },
  {
   "cell_type": "markdown",
   "id": "wrapped-trail",
   "metadata": {},
   "source": [
    "### Convierte la siguiente serie de fechas introducidas como cadenas a una serie de tipo `datetime` llamada `fechasdt`. \n",
    "\n",
    "Pista: [pandas.to_datetime()](https://pandas.pydata.org/pandas-docs/version/1.5/reference/api/pandas.to_datetime.html)"
   ]
  },
  {
   "cell_type": "code",
   "execution_count": null,
   "id": "premium-emperor",
   "metadata": {
    "tags": []
   },
   "outputs": [],
   "source": [
    "fechas = pd.Series(['01 Jan 2010T00:00:01',\n",
    "                    '02-02-2011',\n",
    "                    '20120303',\n",
    "                    '2013/04/04',\n",
    "                    '2014-05-05',\n",
    "                    '2015-06-06T12:20'])\n",
    "fechas"
   ]
  },
  {
   "cell_type": "code",
   "execution_count": null,
   "id": "sacred-quick",
   "metadata": {
    "tags": []
   },
   "outputs": [],
   "source": [
    "# Solución\n",
    "fechasdt = pd.to_datetime(fechas)\n",
    "fechasdt"
   ]
  },
  {
   "cell_type": "markdown",
   "id": "polar-carpet",
   "metadata": {},
   "source": [
    "### Crea tres series a partir de la serie `fechasdt` anterior llamadas `days`, `months` y `years`, donde cada una contenga el día, el mes y el año de cada fecha, respectivamente.\n",
    "\n",
    "Pista: Una serie del tipo `datetime` tiene un atributo `.dt` con métodos para acceder al día, mes y año, por ejemplo, [pandas.Series.dt.day()](https://pandas.pydata.org/pandas-docs/version/1.5/reference/api/pandas.Series.dt.day.html)."
   ]
  },
  {
   "cell_type": "code",
   "execution_count": null,
   "id": "automatic-democrat",
   "metadata": {
    "tags": []
   },
   "outputs": [],
   "source": [
    "# Solución\n",
    "days = fechasdt.dt.day\n",
    "months = fechasdt.dt.month\n",
    "years = fechasdt.dt.year\n",
    "print(days)\n",
    "print(months)\n",
    "print(years)"
   ]
  },
  {
   "cell_type": "markdown",
   "id": "intelligent-sponsorship",
   "metadata": {},
   "source": [
    "### Crea una serie con valores aleatorios enteros entre 1 y 10, pero cuyo índice tenga 12 objetos del tipo `datetime` con el primer día de cada mes del año 2024\n",
    "\n",
    "El índice deben empezar por el **01-01-2024** y terminar en el **01-12-20243**.\n",
    "\n",
    "Pistas: [numpy.random.randint](https://numpy.org/doc/stable/reference/random/generated/numpy.random.randint.html()) y [pandas.date_range()](https://pandas.pydata.org/pandas-docs/version/1.5/reference/api/pandas.date_range.html)"
   ]
  },
  {
   "cell_type": "code",
   "execution_count": null,
   "id": "neural-trauma",
   "metadata": {
    "tags": []
   },
   "outputs": [],
   "source": [
    "# Solución\n",
    "serie = pd.Series(np.random.randint(0,10,12), index=[pd.date_range('01-01-2024', periods=12, freq='MS')])\n",
    "serie"
   ]
  },
  {
   "cell_type": "markdown",
   "id": "bibliographic-think",
   "metadata": {},
   "source": [
    "## DataFrames"
   ]
  },
  {
   "cell_type": "markdown",
   "id": "elementary-assistant",
   "metadata": {},
   "source": [
    "### Dadas las siguientes series que representan frutas, precio y peso comprado de cada una de ellas, construye un `Dataframe` y obtén tanto el precio medio como el peso medio de cada tipo de fruta.\n",
    "\n",
    "Pista: [pandas.Series.groupby()](https://pandas.pydata.org/pandas-docs/version/1.5/reference/api/pandas.Series.groupby.html)"
   ]
  },
  {
   "cell_type": "code",
   "execution_count": null,
   "id": "baking-guatemala",
   "metadata": {},
   "outputs": [],
   "source": [
    "np.random.seed(0)\n",
    "frutas = pd.Series(np.random.choice(['manzana', 'banana', 'zanahoria'], 10))\n",
    "precios = pd.Series(np.random.sample(10) * 3)\n",
    "pesos = pd.Series(np.random.randint(1, 5, 10))\n",
    "\n",
    "print(frutas.tolist())\n",
    "print(precios.tolist())\n",
    "print(pesos.tolist())"
   ]
  },
  {
   "cell_type": "code",
   "execution_count": null,
   "id": "charitable-pixel",
   "metadata": {
    "tags": []
   },
   "outputs": [],
   "source": [
    "# Solución\n",
    "dataframe = pd.DataFrame()\n",
    "dataframe['precio medio'] = precios.groupby(frutas).mean()\n",
    "dataframe['peso medio'] = pesos.groupby(frutas).mean()\n",
    "dataframe"
   ]
  },
  {
   "cell_type": "code",
   "execution_count": null,
   "id": "93c1dc8a",
   "metadata": {},
   "outputs": [],
   "source": [
    "# Solución\n",
    "dataframe1 = pd.DataFrame({'frutas': frutas, 'precios': precios.groupby(frutas).mean(), 'pesos': pesos.groupby(frutas).mean()})\n",
    "dataframe1"
   ]
  },
  {
   "cell_type": "markdown",
   "id": "willing-mistress",
   "metadata": {
    "tags": []
   },
   "source": [
    "### Crea un `DataFrame` a partir del archivo `planets.csv` seleccionando solamente las columnas `method`,  `year` y `distance`, y calcula el número elementos que tiene.\n",
    "\n",
    "Pista: [pandas.read_csv](https://pandas.pydata.org/pandas-docs/stable/reference/api/pandas.read_csv.html)"
   ]
  },
  {
   "cell_type": "code",
   "execution_count": null,
   "id": "brutal-elder",
   "metadata": {
    "tags": []
   },
   "outputs": [],
   "source": [
    "# Solución\n",
    "planetas = pd.read_csv('data/planets.csv', usecols = ['method', 'year','distance'])\n",
    "planetas\n"
   ]
  },
  {
   "cell_type": "markdown",
   "id": "8d603eda",
   "metadata": {},
   "source": [
    "### Calcula cuantos planetas se han descubierto usando cada método de detección a partir del *dataset* de planetas anterior."
   ]
  },
  {
   "cell_type": "code",
   "execution_count": null,
   "id": "e91c6ae2",
   "metadata": {},
   "outputs": [],
   "source": [
    "# Solución\n",
    "planetas['method'].value_counts()"
   ]
  },
  {
   "cell_type": "markdown",
   "id": "dbb0dadf",
   "metadata": {},
   "source": [
    "### Determina en qué año se descubrieron más planetas a partir del *dataset* de planetas anterior."
   ]
  },
  {
   "cell_type": "code",
   "execution_count": null,
   "id": "49101064",
   "metadata": {},
   "outputs": [],
   "source": [
    "# Solución\n",
    "planetas['year'].value_counts().max()"
   ]
  },
  {
   "cell_type": "markdown",
   "id": "adverse-surprise",
   "metadata": {},
   "source": [
    "### Create un `DataFrame` a partir del *dataset* de coches [Cars93_miss.csv](https://raw.githubusercontent.com/selva86/datasets/master/Cars93_miss.csv), y encuentra el fabricante, modelo, tipo y precio del coche más caro (solamente deben devolverse esas columnas).\n",
    "\n",
    "En primer lugar, crea el dataset a partir de la URL anterior:"
   ]
  },
  {
   "cell_type": "code",
   "execution_count": null,
   "id": "attractive-priority",
   "metadata": {
    "tags": []
   },
   "outputs": [],
   "source": [
    "# Solución\n",
    "coches = pd.read_csv('https://raw.githubusercontent.com/selva86/datasets/master/Cars93_miss.csv', usecols=['Manufacturer','Model','Type','Max.Price'])\n",
    "coches\n"
   ]
  },
  {
   "cell_type": "markdown",
   "id": "ce3212f3",
   "metadata": {},
   "source": [
    "Luego, muestra el precio del coche más caro, para lo cual puedes usar [pandas.DataFrame.max()](https://pandas.pydata.org/pandas-docs/version/1.5/reference/api/pandas.DataFrame.max.html):"
   ]
  },
  {
   "cell_type": "code",
   "execution_count": null,
   "id": "12d97868",
   "metadata": {
    "tags": []
   },
   "outputs": [],
   "source": [
    "# Solución\n",
    "coches['Max.Price'].max()"
   ]
  },
  {
   "cell_type": "markdown",
   "id": "b01132a8",
   "metadata": {},
   "source": [
    "A continuación, genera una serie de valores booleanos con el resultado de la comparación con dicho precio:"
   ]
  },
  {
   "cell_type": "code",
   "execution_count": null,
   "id": "b7a4713e",
   "metadata": {
    "tags": []
   },
   "outputs": [],
   "source": [
    "# Solución\n",
    "comparacion = coches['Max.Price']>=coches['Max.Price'].max()\n",
    "comparacion"
   ]
  },
  {
   "cell_type": "markdown",
   "id": "b84c063f",
   "metadata": {},
   "source": [
    "A partir de la expresión anterior, obtén la fila del dataframe que cumple la condición de precio máximo con [pandas.DataFrame.loc()](https://pandas.pydata.org/pandas-docs/version/1.5/reference/api/pandas.DataFrame.loc.html): "
   ]
  },
  {
   "cell_type": "code",
   "execution_count": null,
   "id": "a879df30",
   "metadata": {
    "tags": []
   },
   "outputs": [],
   "source": [
    "# Solución\n",
    "coches.loc[comparacion]"
   ]
  },
  {
   "cell_type": "markdown",
   "id": "b62675e5",
   "metadata": {},
   "source": [
    "Por último, selecciona únicamente las columnas del dataframe indicadas (fabricante, modelo, tipo, precio):"
   ]
  },
  {
   "cell_type": "code",
   "execution_count": null,
   "id": "linear-boundary",
   "metadata": {
    "tags": []
   },
   "outputs": [],
   "source": [
    "# Solución\n",
    "coches2 = pd.read_csv('https://raw.githubusercontent.com/selva86/datasets/master/Cars93_miss.csv', usecols=['Manufacturer','Model','Type','Price'])\n",
    "coches2.loc[comparacion]"
   ]
  },
  {
   "cell_type": "markdown",
   "id": "younger-ivory",
   "metadata": {},
   "source": [
    "### Calcula una nueva columna `Norm.price` en el *dataset* de coches anterior con el precio normalizado con respecto a su valor máximo y mínimo ().\n",
    "\n",
    "Nota: Esta normalización se realiza con la siguiente operación: $(precio - precioMinimo)/(precioMaximo - precioMinimo)$"
   ]
  },
  {
   "cell_type": "code",
   "execution_count": null,
   "id": "boring-married",
   "metadata": {
    "tags": []
   },
   "outputs": [],
   "source": [
    "# Solución\n",
    "coches = pd.read_csv('https://raw.githubusercontent.com/selva86/datasets/master/Cars93_miss.csv', usecols=['Min.Price','Price','Max.Price'])\n",
    "\n",
    "coches['Norm.price'] = (coches['Price']-coches['Min.Price'])/(coches['Max.Price']-coches['Min.Price'])\n",
    "coches"
   ]
  },
  {
   "cell_type": "markdown",
   "id": "considerable-mobility",
   "metadata": {},
   "source": [
    "### Encuentra los tres vehículos con mayor precio (`Price`), ignorando los que no tengan precio asignado (NaN), en el *dataset* de coches anterior.\n",
    "\n",
    "Pista: Averigua para qué sirve el parámetro `subset` de [pandas.DataFrame.dropna()](https://pandas.pydata.org/pandas-docs/version/1.5/reference/api/pandas.DataFrame.dropna.html)."
   ]
  },
  {
   "cell_type": "code",
   "execution_count": null,
   "id": "0a2f58fa",
   "metadata": {
    "tags": []
   },
   "outputs": [],
   "source": [
    "# Solución\n",
    "coches2.dropna().nlargest(3,'Price')"
   ]
  },
  {
   "cell_type": "markdown",
   "id": "0d0ed5c0-046a-4b1c-b6ef-e3b08f41d8fe",
   "metadata": {
    "tags": []
   },
   "source": [
    "### Crea un `DataFrame` a partir del archivo `california_cities.csv` y muestra la población total de la ciudad con más habitantes (se deben mostrar las columnas `city` y `population_total`)."
   ]
  },
  {
   "cell_type": "code",
   "execution_count": null,
   "id": "6ecfa4f6-e471-4dd7-a79b-7fcca86e0051",
   "metadata": {
    "tags": []
   },
   "outputs": [],
   "source": [
    "# Solución\n",
    "ciudades = pd.read_csv('data/california_cities.csv',usecols=['city','population_total'])\n",
    "ciudades.nlargest(1,'population_total')"
   ]
  },
  {
   "cell_type": "markdown",
   "id": "cb906059",
   "metadata": {},
   "source": [
    "### Determina cuál es la población de la ciudad más septentional de California a partir del *dataset* de ciudades anterior (se deben mostrar las columnas `city`, `latd` y `population_total`)."
   ]
  },
  {
   "cell_type": "code",
   "execution_count": null,
   "id": "dd2354da",
   "metadata": {},
   "outputs": [],
   "source": [
    "# Solución\n",
    "ciudades2 =pd.read_csv('data/california_cities.csv',usecols=['city','latd','population_total'])\n",
    "ciudades2.nlargest(1,'latd')\n",
    "ciudades2['latd'].idxmax()"
   ]
  },
  {
   "cell_type": "markdown",
   "id": "ff65e6f2",
   "metadata": {},
   "source": [
    "### Calcula la densidad de población de la ciudad de California que se encuentra a mayor altitud a partir del *dataset* de ciudades anterior (se deben mostrar las columnas `city`, `elevation_m` y `area_total_km2`, así cómo la densidad de población total en habitantes por kilómetro cuadrado)"
   ]
  },
  {
   "cell_type": "code",
   "execution_count": null,
   "id": "65fa0586",
   "metadata": {},
   "outputs": [],
   "source": [
    "# Solución\n",
    "ciudades3 = pd.read_csv('data/california_cities.csv',usecols=['city','elevation_m','area_total_km2'])\n",
    "ciudades2.loc[ciudades2['latd'].idxmax()]['population_total']/ciudades3.loc[ciudades2['latd'].idxmax()]['area_total_km2']"
   ]
  }
 ],
 "metadata": {
  "kernelspec": {
   "display_name": "Python 3 (ipykernel)",
   "language": "python",
   "name": "python3"
  },
  "language_info": {
   "codemirror_mode": {
    "name": "ipython",
    "version": 3
   },
   "file_extension": ".py",
   "mimetype": "text/x-python",
   "name": "python",
   "nbconvert_exporter": "python",
   "pygments_lexer": "ipython3",
   "version": "3.8.18"
  },
  "toc": {
   "base_numbering": 1,
   "nav_menu": {},
   "number_sections": true,
   "sideBar": true,
   "skip_h1_title": false,
   "title_cell": "Tabla de contenidos",
   "title_sidebar": "Contents",
   "toc_cell": true,
   "toc_position": {
    "height": "calc(100% - 180px)",
    "left": "10px",
    "top": "150px",
    "width": "376.35px"
   },
   "toc_section_display": true,
   "toc_window_display": true
  },
  "toc-autonumbering": true
 },
 "nbformat": 4,
 "nbformat_minor": 5
}
