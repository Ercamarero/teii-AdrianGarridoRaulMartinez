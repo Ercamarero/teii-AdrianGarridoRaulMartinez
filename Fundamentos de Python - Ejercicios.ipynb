{
 "cells": [
  {
   "cell_type": "markdown",
   "id": "39938e2f-7834-4881-8fe0-0091e412f110",
   "metadata": {
    "toc-hr-collapsed": true
   },
   "source": [
    "# Alumno"
   ]
  },
  {
   "cell_type": "markdown",
   "id": "48332deb-2090-4822-8426-5df5bbaaf0ee",
   "metadata": {},
   "source": [
    "*Sustituye esta frase por tu nombre y apellidos.*"
   ]
  },
  {
   "cell_type": "markdown",
   "id": "pressing-personality",
   "metadata": {
    "toc-hr-collapsed": true
   },
   "source": [
    "# Ejercicios de nivel básico"
   ]
  },
  {
   "cell_type": "markdown",
   "id": "literary-newsletter",
   "metadata": {
    "tags": [],
    "toc-hr-collapsed": true
   },
   "source": [
    "## Listas y diccionarios"
   ]
  },
  {
   "cell_type": "markdown",
   "id": "assured-emperor",
   "metadata": {},
   "source": [
    "### Dada una frase sin signos de puntuación, calcula la lista de las longitudes de las palabras que contiene.\n",
    "\n",
    "Resuélvelo tanto con un bucle clásico como usando *list comprehensions*."
   ]
  },
  {
   "cell_type": "code",
   "execution_count": 1,
   "id": "working-carroll",
   "metadata": {},
   "outputs": [],
   "source": [
    "sentence = \"the quick brown fox jumps over the lazy dog\""
   ]
  },
  {
   "cell_type": "code",
   "execution_count": 2,
   "id": "875ea55b",
   "metadata": {},
   "outputs": [
    {
     "name": "stdout",
     "output_type": "stream",
     "text": [
      "['the', 'quick', 'brown', 'fox', 'jumps', 'over', 'the', 'lazy', 'dog']\n",
      "[3, 5, 5, 3, 5, 4, 3, 4, 3]\n"
     ]
    }
   ],
   "source": [
    "# Solución con un bucle clásico\n",
    "l1 = sentence.split()\n",
    "print(l1)\n",
    "l2 = []\n",
    "for i in l1:\n",
    "    l2.append(len(i))\n",
    "print (l2)"
   ]
  },
  {
   "cell_type": "code",
   "execution_count": 15,
   "id": "fa0459b4",
   "metadata": {},
   "outputs": [
    {
     "name": "stdout",
     "output_type": "stream",
     "text": [
      "['the', 'quick', 'brown', 'fox', 'jumps', 'over', 'the', 'lazy', 'dog']\n",
      "[3, 5, 5, 3, 5, 4, 3, 4, 3]\n"
     ]
    }
   ],
   "source": [
    "# Solución con list comprehension\n",
    "l1 = sentence.split()\n",
    "l2 = [len(i) for i in l1]\n",
    "print (l1)\n",
    "print (l2)"
   ]
  },
  {
   "cell_type": "markdown",
   "id": "robust-expression",
   "metadata": {},
   "source": [
    "### Dada una lista de números, obtén la lista de los elementos que son positivos.\n",
    "\n",
    "Resuélvelo tanto con un bucle clásico como usando *list comprehensions*."
   ]
  },
  {
   "cell_type": "code",
   "execution_count": 17,
   "id": "reverse-fiction",
   "metadata": {},
   "outputs": [],
   "source": [
    "numbers = [2.2, -3.4, 1.0, 5.6, -1.2]"
   ]
  },
  {
   "cell_type": "code",
   "execution_count": 20,
   "id": "5b72f916",
   "metadata": {},
   "outputs": [
    {
     "name": "stdout",
     "output_type": "stream",
     "text": [
      "[2.2, 1.0, 5.6]\n"
     ]
    }
   ],
   "source": [
    "# Solución con un bucle clásico\n",
    "ln = []\n",
    "for i in numbers: \n",
    "    if i >= 0: \n",
    "        ln.append(i)\n",
    "print (ln)\n"
   ]
  },
  {
   "cell_type": "code",
   "execution_count": 21,
   "id": "3871d759",
   "metadata": {},
   "outputs": [
    {
     "name": "stdout",
     "output_type": "stream",
     "text": [
      "[2.2, 1.0, 5.6]\n"
     ]
    }
   ],
   "source": [
    "# Solución con list comprehension\n",
    "ln = [k for k in numbers if k >= 0]\n",
    "print (ln)"
   ]
  },
  {
   "cell_type": "markdown",
   "id": "sunset-identifier",
   "metadata": {},
   "source": [
    "### Dado el siguiente diccionario con pares `\"nombre\": peso`, extrae una lista con los nombres de los vehículos que pesan menos de 5000 kilos.\n",
    "\n",
    "Los nombres de la lista extraída deben estar en minúsculas.\n",
    "\n",
    "Resuélvelo usando *list comprehensions*."
   ]
  },
  {
   "cell_type": "code",
   "execution_count": 28,
   "id": "failing-championship",
   "metadata": {},
   "outputs": [],
   "source": [
    "vehicles = {\n",
    "    \"Sedan\": 1500,\n",
    "    \"SUV\": 2000,\n",
    "    \"Pickup\": 2500,\n",
    "    \"Minivan\": 1600,\n",
    "    \"Van\": 2400,\n",
    "    \"Semi\": 13600,\n",
    "    \"Bicycle\": 7,\n",
    "    \"Motorcycle\": 110\n",
    "}"
   ]
  },
  {
   "cell_type": "code",
   "execution_count": 28,
   "id": "homeless-graduation",
   "metadata": {},
   "outputs": [
    {
     "name": "stdout",
     "output_type": "stream",
     "text": [
      "['Sedan', 'SUV', 'Pickup', 'Minivan', 'Van', 'Bicycle', 'Motorcycle']\n"
     ]
    }
   ],
   "source": [
    "# Solución con list comprehension\n",
    "lp = [p for p in vehicles.keys() if vehicles[p]< 5000]\n",
    "print (lp)"
   ]
  },
  {
   "cell_type": "markdown",
   "id": "concrete-hurricane",
   "metadata": {},
   "source": [
    "### Crea una lista `lst2` con el tipo de cada elemento de la lista `lst1`.\n",
    "\n",
    "Resuélvelo tanto con un bucle clásico como usando *list comprehensions*."
   ]
  },
  {
   "cell_type": "code",
   "execution_count": 29,
   "id": "limiting-minority",
   "metadata": {},
   "outputs": [],
   "source": [
    "lst1 = [3.14, 66, \"osito\", True, [], {}]"
   ]
  },
  {
   "cell_type": "code",
   "execution_count": 30,
   "id": "confident-replication",
   "metadata": {
    "tags": []
   },
   "outputs": [
    {
     "name": "stdout",
     "output_type": "stream",
     "text": [
      "[<class 'float'>, <class 'int'>, <class 'str'>, <class 'bool'>, <class 'list'>, <class 'dict'>]\n"
     ]
    }
   ],
   "source": [
    "# Solución con bucle clásico\n",
    "l2 = []\n",
    "for i in lst1: \n",
    "    l2.append(type(i))\n",
    "print(l2)"
   ]
  },
  {
   "cell_type": "code",
   "execution_count": 31,
   "id": "e7c8ed49-360a-4cc5-acdf-358a8fac098b",
   "metadata": {
    "tags": []
   },
   "outputs": [
    {
     "name": "stdout",
     "output_type": "stream",
     "text": [
      "[<class 'float'>, <class 'int'>, <class 'str'>, <class 'bool'>, <class 'list'>, <class 'dict'>]\n"
     ]
    }
   ],
   "source": [
    "# Solución con list comprehension\n",
    "lt = [type(t) for t in lst1]\n",
    "print(lt)"
   ]
  },
  {
   "cell_type": "markdown",
   "id": "known-watershed",
   "metadata": {},
   "source": [
    "### Usando la función `zip()`, crea un diccionario que forme sus pares `\"clave\": valor` a partir de las listas `lst1` y `lst2`."
   ]
  },
  {
   "cell_type": "code",
   "execution_count": 3,
   "id": "macro-filling",
   "metadata": {},
   "outputs": [],
   "source": [
    "lst1 = [\"Netflix\", \"Hulu\", \"Sling\", \"HBO\"]\n",
    "lst2 = [198, 166, 237, 125]"
   ]
  },
  {
   "cell_type": "code",
   "execution_count": 5,
   "id": "advance-science",
   "metadata": {},
   "outputs": [
    {
     "name": "stdout",
     "output_type": "stream",
     "text": [
      "{'Netflix': 198, 'Hulu': 166, 'Sling': 237, 'HBO': 125}\n"
     ]
    }
   ],
   "source": [
    "# Solución\n",
    "dic = dict(zip(lst1, lst2))\n",
    "print (dic)\n"
   ]
  },
  {
   "cell_type": "markdown",
   "id": "mounted-preliminary",
   "metadata": {},
   "source": [
    "### Crea una lista ordenada de tuplas `(\"nombre\", edad)` a partir de las listas `nombres` y `edades`.\n",
    "\n",
    "Pista: Usa las funciones `zip()` y `sorted()`"
   ]
  },
  {
   "cell_type": "code",
   "execution_count": 7,
   "id": "mediterranean-mission",
   "metadata": {},
   "outputs": [],
   "source": [
    "nombres = [\"Mike\", \"Danny\", \"Jim\", \"Annie\"]\n",
    "edades = [4, 12, 7, 19]"
   ]
  },
  {
   "cell_type": "code",
   "execution_count": 9,
   "id": "dominican-ocean",
   "metadata": {},
   "outputs": [
    {
     "data": {
      "text/plain": [
       "[('Annie', 19), ('Danny', 12), ('Jim', 7), ('Mike', 4)]"
      ]
     },
     "execution_count": 9,
     "metadata": {},
     "output_type": "execute_result"
    }
   ],
   "source": [
    "# Solución\n",
    "listtuplas = sorted([x for x in zip(nombres,edades)])\n",
    "listtuplas"
   ]
  },
  {
   "cell_type": "markdown",
   "id": "former-crawford",
   "metadata": {},
   "source": [
    "### Crea un diccionario que asocie cada letra del rango a-z con su correspondiente codificación en Unicode. \n",
    "\n",
    "Pista: Usa las funciones `ord()` (que devuelve el código Unicode de un carácter) y `chr()` (que devuelve la letra asociada a su código Unicode): `{'a': 97, 'b': 98, 'c': 99, ..., 'z': 122}`.\n",
    "\n",
    "Resuélvelo tanto con un bucle clásico como usando *dict comprehensions*."
   ]
  },
  {
   "cell_type": "code",
   "execution_count": 14,
   "id": "dominican-motorcycle",
   "metadata": {},
   "outputs": [
    {
     "name": "stdout",
     "output_type": "stream",
     "text": [
      "{'a': 97, 'b': 98, 'c': 99, 'd': 100, 'e': 101, 'f': 102, 'g': 103, 'h': 104, 'i': 105, 'j': 106, 'k': 107, 'l': 108, 'm': 109, 'n': 110, 'o': 111, 'p': 112, 'q': 113, 'r': 114, 's': 115, 't': 116, 'u': 117, 'v': 118, 'w': 119, 'x': 120, 'y': 121, 'z': 122}\n"
     ]
    }
   ],
   "source": [
    "# Solución con bucle clásico\n",
    "diccionario_unicode={}\n",
    "for i in range (ord('a'), ord('z') + 1):\n",
    "    diccionario_unicode[chr(i)] =  i\n",
    "print (diccionario_unicode)"
   ]
  },
  {
   "cell_type": "code",
   "execution_count": 18,
   "id": "cf81cbf9",
   "metadata": {},
   "outputs": [
    {
     "name": "stdout",
     "output_type": "stream",
     "text": [
      "{'a': 97, 'b': 98, 'c': 99, 'd': 100, 'e': 101, 'f': 102, 'g': 103, 'h': 104, 'i': 105, 'j': 106, 'k': 107, 'l': 108, 'm': 109, 'n': 110, 'o': 111, 'p': 112, 'q': 113, 'r': 114, 's': 115, 't': 116, 'u': 117, 'v': 118, 'w': 119, 'x': 120, 'y': 121, 'z': 122}\n"
     ]
    }
   ],
   "source": [
    "# Solución con dict comprehension\n",
    "diccionario_unicode= {chr(i) : i for i in range (ord('a'),ord('z')+1)}\n",
    "print(diccionario_unicode)"
   ]
  },
  {
   "cell_type": "markdown",
   "id": "ceramic-genre",
   "metadata": {},
   "source": [
    "### Genera un diccionario que contenga las letras del rango a-z cuya codificación en Unicode sea un número par usando *dict comprehensions*.\n",
    "\n",
    "Puedes partir del diccionario del ejercicio anterior."
   ]
  },
  {
   "cell_type": "code",
   "execution_count": 19,
   "id": "clinical-motorcycle",
   "metadata": {},
   "outputs": [
    {
     "name": "stdout",
     "output_type": "stream",
     "text": [
      "{'b': 98, 'd': 100, 'f': 102, 'h': 104, 'j': 106, 'l': 108, 'n': 110, 'p': 112, 'r': 114, 't': 116, 'v': 118, 'x': 120, 'z': 122}\n"
     ]
    }
   ],
   "source": [
    "# Solución\n",
    "diccionario_unicode= {chr(i) : i for i in range (ord('a'),ord('z')+1) if i % 2 == 0}\n",
    "print(diccionario_unicode)"
   ]
  },
  {
   "cell_type": "markdown",
   "id": "bfe4e56e",
   "metadata": {},
   "source": [
    "### Convierte una lista que contiene listas (bidimensional) en una lista plana.\n",
    "\n",
    "Resuélvelo con una *list comprehension*"
   ]
  },
  {
   "cell_type": "code",
   "execution_count": 20,
   "id": "7cef859f",
   "metadata": {},
   "outputs": [],
   "source": [
    "listas = [[1, 2, 3],[4, 5, 6]]"
   ]
  },
  {
   "cell_type": "code",
   "execution_count": 26,
   "id": "941d03ce",
   "metadata": {},
   "outputs": [
    {
     "name": "stdout",
     "output_type": "stream",
     "text": [
      "[1, 2, 3, 4, 5, 6]\n"
     ]
    }
   ],
   "source": [
    "# Solución: [1, 2, 3, 4, 5, 6]\n",
    "lst = [i for x in listas for i in x]\n",
    "print (lst)"
   ]
  },
  {
   "cell_type": "markdown",
   "id": "52adf287",
   "metadata": {},
   "source": [
    "### Programa una función `list_greater_than(numbers: List[int], threshold: int)`\n",
    "\n",
    "Esta función debe recibir una lista de números y un número, y devolver una lista de *booleanos* indicando si cada número de la lista original es estrictamente mayor que dicho número. Por ejemplo, `list_greater_than([1, 2, 3, 4, 5], 3)` devolvería `[False, False, False, True, True]`."
   ]
  },
  {
   "cell_type": "code",
   "execution_count": 27,
   "id": "56e7cfb3",
   "metadata": {},
   "outputs": [
    {
     "name": "stdout",
     "output_type": "stream",
     "text": [
      "[True, True, False, False, False]\n"
     ]
    }
   ],
   "source": [
    "# Solución\n",
    "def list_greater_than(lista,num):\n",
    "    sol= [num > i for i in lista]\n",
    "    print (sol)\n",
    "list_greater_than([1,2,3,4,5],3)"
   ]
  },
  {
   "cell_type": "markdown",
   "id": "direct-rocket",
   "metadata": {
    "tags": [],
    "toc-hr-collapsed": true
   },
   "source": [
    "## Cadenas"
   ]
  },
  {
   "cell_type": "markdown",
   "id": "changing-excuse",
   "metadata": {},
   "source": [
    "### Construye una cadena que tenga todos los nombres de los vehículos del diccionario `vehicles` separados por comas.\n",
    "\n",
    "Pista: Usa la función `join()`"
   ]
  },
  {
   "cell_type": "code",
   "execution_count": 43,
   "id": "technical-reservation",
   "metadata": {},
   "outputs": [
    {
     "name": "stdout",
     "output_type": "stream",
     "text": [
      "Sedan,SUV,Pickup,Minivan,Van,Semi,Bicycle,Motorcycle\n"
     ]
    }
   ],
   "source": [
    "# Solución\n",
    "def listaClaves(diccionario):\n",
    "    cad = ','.join(diccionario.keys())\n",
    "    print (cad)\n",
    "listaClaves(vehicles)"
   ]
  },
  {
   "cell_type": "markdown",
   "id": "incorporate-madison",
   "metadata": {},
   "source": [
    "### Genera una cadena con retornos de carro, de manera que se imprima como un poema, con la siguiente lista de frases.\n",
    "\n",
    "Pista: Usa la función `join()`"
   ]
  },
  {
   "cell_type": "code",
   "execution_count": 1,
   "id": "absent-coupon",
   "metadata": {},
   "outputs": [],
   "source": [
    "frases = ['Aquí la envidia y mentira',\n",
    "          'me tuvieron encerrado.',\n",
    "          'Dichoso el humilde estado',\n",
    "          'del sabio que se retira',\n",
    "          'de aqueste mundo malvado.']"
   ]
  },
  {
   "cell_type": "code",
   "execution_count": 42,
   "id": "palestinian-tablet",
   "metadata": {},
   "outputs": [
    {
     "name": "stdout",
     "output_type": "stream",
     "text": [
      "Aquí la envidia y mentira\n",
      "me tuvieron encerrado.\n",
      "Dichoso el humilde estado\n",
      "del sabio que se retira\n",
      "de aqueste mundo malvado.\n"
     ]
    }
   ],
   "source": [
    "# Solución\n",
    "def creaPoemas(frases):\n",
    "    cad = '\\n'.join(frases)\n",
    "    print(cad)\n",
    "creaPoemas(frases)"
   ]
  },
  {
   "cell_type": "markdown",
   "id": "revolutionary-provincial",
   "metadata": {},
   "source": [
    "### Convierte una cadena con una fecha en formato 'AAAA-MM-DD' al formato 'DD/MM/AAAA'.\n",
    "\n",
    "Pista: Usa las funciones `split()` y `join()`"
   ]
  },
  {
   "cell_type": "code",
   "execution_count": 40,
   "id": "abandoned-latex",
   "metadata": {},
   "outputs": [
    {
     "name": "stdout",
     "output_type": "stream",
     "text": [
      "1 2 3\n"
     ]
    }
   ],
   "source": [
    "# Pista: la siguiente línea te puede facilitar la tarea.\n",
    "\n",
    "a, b, c = [1, 2, 3]\n",
    "print(a,b,c)"
   ]
  },
  {
   "cell_type": "code",
   "execution_count": 55,
   "id": "pressed-habitat",
   "metadata": {},
   "outputs": [
    {
     "name": "stdout",
     "output_type": "stream",
     "text": [
      "11/04/2024\n"
     ]
    }
   ],
   "source": [
    "# Solución\n",
    "def Reformato (fecha):\n",
    "    l = fecha.split('-')\n",
    "    año,mes,dia = l\n",
    "    #Podriamos imprimir directamente pero usemos join()\n",
    "    l = [dia,mes,año]\n",
    "    nf = '/'.join(l)\n",
    "    print(nf)\n",
    "Reformato(\"2024-04-11\")"
   ]
  },
  {
   "cell_type": "markdown",
   "id": "9d0207f9",
   "metadata": {},
   "source": [
    "### Convierte a mayúsculas el primer de carácter de cada palabra de una lista de cadenas de caracteres.\n",
    "\n",
    "Utiliza como entrada la lista de cadenas de caracteres `frases` definida anteriormente. El resultado debe ser una única cadena: \"Aquí La Envidia Y Mentira Me Tuvieron Encerrrado. Dichoso El Humilde Estado Del Sabio Que Se Retira De Aqueste Mundo Malvado.\".\n",
    "\n",
    "Resuélvelo tanto con un bucle clásico como usando *list comprehensions*.\n",
    "\n",
    "Pista: Usa la función `capitalize()`"
   ]
  },
  {
   "cell_type": "code",
   "execution_count": 11,
   "id": "c9a8274f",
   "metadata": {},
   "outputs": [
    {
     "name": "stdout",
     "output_type": "stream",
     "text": [
      "Aquí La Envidia Y Mentira Me Tuvieron Encerrado. Dichoso El Humilde Estado Del Sabio Que Se Retira De Aqueste Mundo Malvado. \n"
     ]
    }
   ],
   "source": [
    "# Solución con bucle clásico\n",
    "def capitalizar (frases):\n",
    "    sol = ''\n",
    "    for i in frases:\n",
    "        aux = i.split()\n",
    "        for j in aux:\n",
    "            j = j.capitalize()\n",
    "            sol += j +\" \"\n",
    "    print (sol)\n",
    "capitalizar(frases)"
   ]
  },
  {
   "cell_type": "code",
   "execution_count": 23,
   "id": "3fd39525",
   "metadata": {},
   "outputs": [
    {
     "name": "stdout",
     "output_type": "stream",
     "text": [
      "Aquí La Envidia Y Mentira Me Tuvieron Encerrado. Dichoso El Humilde Estado Del Sabio Que Se Retira De Aqueste Mundo Malvado.\n"
     ]
    }
   ],
   "source": [
    "# Solución con list comprehension\n",
    "capitalizados = ' '.join([palabra.capitalize() for x in frases for palabra in x.split()])\n",
    "print (capitalizados)"
   ]
  },
  {
   "cell_type": "markdown",
   "id": "utility-nickel",
   "metadata": {},
   "source": [
    "# Ejercicios de nivel intermedio"
   ]
  },
  {
   "cell_type": "markdown",
   "id": "passive-aviation",
   "metadata": {},
   "source": [
    "## Listas, diccionarios, conjuntos, tuplas y cadenas"
   ]
  },
  {
   "cell_type": "markdown",
   "id": "differential-messenger",
   "metadata": {},
   "source": [
    "### Programa una función llamada `is_valid_zipcode(zipcode: str)`\n",
    "\n",
    "Esta función recibe una cadena y devuelve un *booleano* indicando si la cadena es un código postal válido. Consideraremos que una cadena es un código postal válido si está compuesta de 5 dígitos. Por ejemplo, `is_valid_zip_code('30500')` devolvería `True`, mientras que `is_valid_zip_code('3050a')` y `is_valid_zip_code('3050')` devolverían `False`."
   ]
  },
  {
   "cell_type": "code",
   "execution_count": 29,
   "id": "approved-veteran",
   "metadata": {},
   "outputs": [
    {
     "name": "stdout",
     "output_type": "stream",
     "text": [
      "True\n",
      "False\n",
      "False\n"
     ]
    }
   ],
   "source": [
    "# Solución\n",
    "def is_valid_zipcode(zipcode):\n",
    "    if len(zipcode) != 5:\n",
    "        return False\n",
    "    else:\n",
    "        if zipcode.isdigit():\n",
    "            return True\n",
    "        else: \n",
    "            return False\n",
    "\n",
    "print(is_valid_zipcode('30500'))\n",
    "print(is_valid_zipcode('3050a'))\n",
    "print(is_valid_zipcode('3050'))\n",
    "\n"
   ]
  },
  {
   "cell_type": "markdown",
   "id": "cooperative-ribbon",
   "metadata": {},
   "source": [
    "### Programa una función llamada `primos(numero: int)` \n",
    "\n",
    "Esta función debe recibir un número y devolver una lista con los números primos que se encuentran entre 2 y ese número. Por ejemplo:\n",
    "\n",
    "`primos(50)`\n",
    "\n",
    "devolvería la siguiente lista:\n",
    "\n",
    "`[2, 3, 5, 7, 11, 13, 17, 19, 23, 29, 31, 37, 41, 43, 47]`"
   ]
  },
  {
   "cell_type": "code",
   "execution_count": 46,
   "id": "helpful-damages",
   "metadata": {},
   "outputs": [
    {
     "name": "stdout",
     "output_type": "stream",
     "text": [
      "[2, 3, 5, 7, 11, 13, 17, 19, 23, 29, 31, 37, 41, 43, 47]\n"
     ]
    }
   ],
   "source": [
    "# Solución\n",
    "def es_primo(n):\n",
    "    for i in range(2,int(n**0.5)+1):\n",
    "        if n % i == 0: \n",
    "            return False\n",
    "    return True\n",
    "def primos(n):\n",
    "    primos = []\n",
    "    for i in range(2,n+1,1):\n",
    "        if es_primo(i):\n",
    "            primos.append(i)\n",
    "    return primos\n",
    "        \n",
    "        \n",
    "\n",
    "print (primos(50))\n"
   ]
  },
  {
   "cell_type": "markdown",
   "id": "intelligent-juice",
   "metadata": {},
   "source": [
    "### Programa una función llamada `word_search(strings: List[str], keyword: str)`\n",
    "\n",
    "Esta función recibe como argumentos una lista de cadenas y una cadena con una palabra a buscar, y devuelve la lista de los índices de las cadenas que contienen dicha palabra, independientemente de que haya mayúsculas o minúsculas. Nótese que hay que buscar palabras enteras, no partes de otras palabras. En la lista de cadenas puede haber caracteres no alfabéticos (símbolos) tras alguna palabra y eso no debe interferir con la búsqueda.\n",
    "\n",
    "**Nota**: Para simplificar el código puedes asumir que los únicos caracteres no alfabéticos que aparecen en la lista de cadenas son el punto y la coma."
   ]
  },
  {
   "cell_type": "code",
   "execution_count": 2,
   "id": "parliamentary-rates",
   "metadata": {},
   "outputs": [],
   "source": [
    "frases = [\"No por mucho madrugar amanece más temprano.\",\n",
    "          \"Ellos se compraron un coche.\",\n",
    "          \"Sopor es un nombre.\",\n",
    "          \"Soporífero es un adjetivo.\",\n",
    "          \"Insoportable.\",\n",
    "          \" Sopor. \"]"
   ]
  },
  {
   "cell_type": "code",
   "execution_count": 3,
   "id": "c45a8922",
   "metadata": {},
   "outputs": [
    {
     "name": "stdout",
     "output_type": "stream",
     "text": [
      "[0]\n",
      "[2]\n",
      "[]\n"
     ]
    }
   ],
   "source": [
    "# Solución\n",
    "def word_search(strings,keyword):\n",
    "    indices = []\n",
    "    for i,string in enumerate(strings):\n",
    "        palabras = string.split(' ')\n",
    "        for j in palabras:\n",
    "            if keyword in j.lower().split():\n",
    "                indices.append(i)\n",
    "                break\n",
    "\n",
    "    return indices\n",
    "print(word_search(frases, 'por'))\n",
    "print(word_search(frases, 'sopor'))\n",
    "print(word_search(frases, 'teii'))"
   ]
  },
  {
   "cell_type": "markdown",
   "id": "featured-october",
   "metadata": {},
   "source": [
    "### Programa una función llamada `word_count(path: str)`\n",
    "\n",
    "Esta función debe recibir como parámetro la ruta a un archivo de texto compuesto por diferentes líneas que contienen palabras, e imprimir el número de palabras que contiene el archivo. Si el archivo no existe, la función debe capturar la excepción e imprimir un mensaje de error. Por ejemplo, `word_count(\"palabras\")` imprimiría `70` mientras que `word_count(\"nopalabras\")` mostraría `\"Archivo 'nopalabras' no encontrado.\"`. Nótese que en el archivo puede haber caracteres no alfabéticos (símbolos) entre algunas palabras que no deben interferir con el cálculo del resultado.\n",
    "\n",
    "**Nota**: Para simplificar el código puedes asumir que los únicos caracteres no alfabéticos que aparecen en la lista de cadenas son el punto y la coma."
   ]
  },
  {
   "cell_type": "code",
   "execution_count": 11,
   "id": "removed-governor",
   "metadata": {},
   "outputs": [
    {
     "name": "stdout",
     "output_type": "stream",
     "text": [
      "70\n",
      "Archivo 'nopalabras' no encontrado\n"
     ]
    }
   ],
   "source": [
    "# Solución\n",
    "def word_count(path):\n",
    "    try: \n",
    "        with open(path, 'r') as f:\n",
    "            contenido = f.read()\n",
    "            contenido = contenido.replace(',',' ').replace('.',' ') \n",
    "            contenido = ''.join(c for c in contenido)\n",
    "            p = contenido.split()\n",
    "            print(len(p))\n",
    "            return\n",
    "    except FileNotFoundError as e:\n",
    "        print (\"Archivo '\"+  path +\"' no encontrado\")  #NO USAR RAISE MANCHA MUCHO LA SALIDA\n",
    "\n",
    "word_count(\"palabras\")\n",
    "word_count(\"nopalabras\")"
   ]
  },
  {
   "cell_type": "markdown",
   "id": "general-kazakhstan",
   "metadata": {},
   "source": [
    "### Programa una función llamada `unique_words(path: str)`\n",
    " \n",
    "Esta función debe recibir como parámetro la ruta a un archivo de texto compuesto por diferentes líneas que contienen palabras, y devolver una lista con todas las palabras diferentes que contiene el archivo ordenadas alfabéticamente (no tengas en cuenta que las tildes se ordenan incorrectamente), independientemente de que haya mayúsculas o minúsculas. Nótese que en la lista de cadenas puede haber caracteres no alfabéticos (símbolos) entre algunas palabras que deben ignorarse, es decir, no deben aparecer en la lista. Por ejemplo, `unique_words(\"palabras\")` devolvería la lista `['a', 'alfabéticos', 'alguna', 'argumentos', ..., 'índices']`.\n",
    "\n",
    "**Nota**: Para simplificar el código puedes asumir que los únicos caracteres no alfabéticos que aparecen en la lista de cadenas son el punto y la coma."
   ]
  },
  {
   "cell_type": "code",
   "execution_count": 22,
   "id": "domestic-azerbaijan",
   "metadata": {},
   "outputs": [
    {
     "name": "stdout",
     "output_type": "stream",
     "text": [
      "['a', 'alfabéticos', 'alguna', 'argumentos', 'buscar', 'búsqueda', 'cadena', 'cadenas', 'caracteres', 'como', 'con', 'contienen', 'de', 'deben', 'devuelve', 'dicha', 'en', 'enteras', 'esta', 'función', 'haber', 'hay', 'haya', 'independientemente', 'interferir', 'la', 'las', 'lista', 'los', 'mayúsculas', 'minúsculas', 'no', 'nótese', 'o', 'otras', 'palabra', 'palabras', 'partes', 'puede', 'que', 'recibe', 'tras', 'una', 'y', 'índices']\n"
     ]
    }
   ],
   "source": [
    "# Solución\n",
    "\n",
    "def unique_words(path):\n",
    "    palabras_unicas = {}\n",
    "    #Para este ejercicio se puede proponer una expresion regular para resolverlo \n",
    "    \"\"\"de la siguiente manera palabra = r \"\\b(?i)[a-z]\\b\"\n",
    "     pero esto implicaria traer un import mas al sistema. \"\"\"\n",
    "    with open (path,'r',encoding='utf-8') as f: \n",
    "        for linea in f:\n",
    "             #transforma en minusculas todas las palabras del fichero y las separa\n",
    "             palabras = linea.lower().split()\n",
    "             palabras = [palabra.replace(\",\",\"\").replace(\".\",\"\") for palabra in palabras]\n",
    "             for i in palabras:\n",
    "                 if i == \"\":\n",
    "                    continue\n",
    "                 palabras_unicas[i]=True \n",
    "                 \n",
    "    return sorted(palabras_unicas.keys())\n",
    "print(unique_words(\"palabras\"))"
   ]
  },
  {
   "cell_type": "markdown",
   "id": "056dc67e",
   "metadata": {},
   "source": [
    "### Programa una función llamada `letter_count(path: str)`\n",
    "\n",
    "Esta función debe recibir como parámetro la ruta a un archivo de texto compuesto por diferentes líneas que contienen palabras, y devolver una lista de tuplas `(carácter, apariciones)` con las tuplas ordenadas alfabéticamente (no tengas en cuenta que las tildes se ordenan incorrectamente). Deben omitirse todos los caracteres no alfabéticos y los espacios. Además, no debe distinguirse entre mayúsculas minúsculas. Por ejemplo, `letter_count(\"palabras\")` devolvería la lista `[('a', 57), ('b', 12), ('c', 19), ..., ('ú', 3)]`."
   ]
  },
  {
   "cell_type": "code",
   "execution_count": 25,
   "id": "c390ba01",
   "metadata": {},
   "outputs": [
    {
     "name": "stdout",
     "output_type": "stream",
     "text": [
      "[('a', 57), ('b', 12), ('c', 19), ('d', 18), ('e', 47), ('f', 3), ('g', 2), ('h', 4), ('i', 14), ('l', 18), ('m', 5), ('n', 30), ('o', 13), ('p', 8), ('q', 6), ('r', 19), ('s', 27), ('t', 16), ('u', 18), ('v', 2), ('y', 5), ('é', 1), ('í', 1), ('ó', 2), ('ú', 3)]\n"
     ]
    }
   ],
   "source": [
    "# Solución\n",
    "def letter_count(path):\n",
    "\n",
    "    letras_contadas = {}\n",
    "    with open(path, 'r') as f: \n",
    "        contenido = f.read()\n",
    "        for c in contenido:\n",
    "            if c.isalpha():\n",
    "                c = c.lower()\n",
    "                if c in letras_contadas:\n",
    "                    letras_contadas[c] += 1\n",
    "                else:\n",
    "                    letras_contadas[c] = 1 \n",
    "    \n",
    "    letras_contadas = sorted(letras_contadas.items())\n",
    "    return letras_contadas\n",
    "print(letter_count(\"palabras\"))"
   ]
  },
  {
   "cell_type": "markdown",
   "id": "16e0df5a",
   "metadata": {},
   "source": [
    "# Ejercicios sobre Programación Orientada a Objectos"
   ]
  },
  {
   "cell_type": "markdown",
   "id": "f15df7c6",
   "metadata": {},
   "source": [
    "## Crea una jerarquía con las clases `Persona`, `Alumno` y `Profesor`."
   ]
  },
  {
   "cell_type": "markdown",
   "id": "565d30dc",
   "metadata": {},
   "source": [
    "Dada la siguiente definición de la clase `Persona`:"
   ]
  },
  {
   "cell_type": "code",
   "execution_count": 2,
   "id": "3084b304",
   "metadata": {},
   "outputs": [],
   "source": [
    "class Persona(object):\n",
    "    \"\"\" Una clase sencilla. \"\"\"   # esto es un docstring\n",
    "    especie = \"Homo Sapiens\"   # atributo de clase compartido entre todas las instancias\n",
    "    \n",
    "    def __init__(self, nombre):   # método mágico (dunder method)\n",
    "        \"\"\" Este es el inicializador. \"\"\"\n",
    "        self.nombre = nombre   # atributo de instancia diferente para cada objeto\n",
    "        \n",
    "    def __str__(self):   # método mágico (dunder method)\n",
    "        \"\"\" Este método lo usa Python cuando necesita imprimir el objeto como una cadena.\n",
    "        Por ejemplo, lo usa la función print(). \"\"\"\n",
    "        return self.nombre\n",
    "\n",
    "    def __repr__(self):   # método mágico (dunder method)\n",
    "        \"\"\" Este método lo usa Python cuando necesita representar objeto como una cadena.\n",
    "        La cadena resultante se puede ejecutar o evaluar. \"\"\"\n",
    "        return f\"{__class__.__name__}({self.nombre})\"\n",
    "\n",
    "    def rename(self, nuevo_nombre):   # método común\n",
    "        \"\"\" Reasigna el nombre y lo imprime. \"\"\"\n",
    "        self.nombre = nuevo_nombre\n",
    "        print(f\"Ahora me llamo {self.nombre}\")"
   ]
  },
  {
   "cell_type": "markdown",
   "id": "b3327518",
   "metadata": {},
   "source": [
    "\n",
    "* Extiende la clase `Persona`:\n",
    "  * El inicializador debe definir un atributo edad con un valor por defecto de 18 si no se especifica.\n",
    "  * Crea un *getter* y un *setter* para una *property* edad. El *setter* debe comprobar que la edad es un entero mayor que o igual a 18 y menor que o igual a 99. Si no se cumple la condición, la asignación no se lleva a cabo.\n",
    "* Escribe dos subclases de la clase Persona llamadas Alumno y Profesor.\n",
    "  * La subclase `Alumno` debe definir los siguientes atributos y métodos:\n",
    "    * Atributos:\n",
    "      * `_notas: Dict[str, float]` (relaciona cada asignatura con su nota)\n",
    "    * Propiedades:\n",
    "      * `notas: str` (devuelve un diccionario `Dict[str, Calificacion]` de la forma \"Ai: Ci\" dónde `A` es la asignatura y `C` la calificación)\n",
    "        * La calificación debe ser un enumerado con los siguientes valores: \"NP\" (`None`), \"APROBADO\" [5..6], \"BIEN\" [6..7), \"NOTABLE\" [7..9) y \"SOBRESALIENTE\" [9..10]\n",
    "    * Métodos:\n",
    "      * `matricula_asignatura(asignatura: str)`: añade `asignatura` a `_notas` con una nota inicial `None`.\n",
    "        * Si el alumno ya está matriculado en `asignatura`, se mostrará el mensaje \"El alumno '{nombre}' YA está matriculado en '{asignatura}'\".\n",
    "      * `elimina_asignatura(asignatura: str)`: elimina `asignatura` de `_notas`.\n",
    "        * Si el alumno no está matriculado en `asignatura`, se mostrará el mensaje \"El alumno '{nombre}' NO está matriculado en '{asignatura}'\".\n",
    "      * `califica_asignatura(asignatura: str, nota: float)`: asigna la calificación `nota` a la asignatura `asignatura`.\n",
    "        * Si el alumno no está matriculado en `asignatura`, se mostrará el mensaje de error \"El alumno '{nombre}' NO está matriculado en '{asignatura}'\".\n",
    "        * Si la nota no es un valor real entre 0.0 y 10.0, se emitirá una excepción `ValueError`.\n",
    "      * `nota_asignatura(asignatura: str)`: devuelve la nota numérica de `asignatura`\n",
    "        * Si el alumno no está matriculado en `asignatura`, se mostrará el mensaje \"El alumno '{nombre}' NO está matriculado en '{asignatura}'\" y se devolverá `None`.\n",
    "        * Si la asignatura `asignatura` no tiene una nota numérica, se mostrará el mensaje \"El alumno '{nombre}' NO ha sido calificado en '{asignatura}'\" y se devolverá `None`.\n",
    "  * La subclase `Profesor` debe definir los siguientes atributos y métodos:\n",
    "    * Atributos:\n",
    "      * `_asignaturas: List[str]` (asignaturas impartidas por el profesor)\n",
    "    * Propiedades:\n",
    "      * `asignaturas: List[str]` (devuelve la lista de asignaturas impartidas por el profesor ordenadas alfabéticamente)\n",
    "      * `num_asignaturas: int` (devuelve el número de asignaturas impartidas por el profesor)\n",
    "    * Métodos:\n",
    "      * `imparte_asignatura(asignatura: str)`: añade `asignatura` a `_asignaturas`.\n",
    "        * Si el profesor ya imparte `asignatura`, se mostrará el mensaje \"El profesor '{nombre}' YA imparte '{asignatura}'\".\n",
    "      * `elimina_asignatura(asignatura: str)`: elimina `asignatura` de `_asignaturas`.\n",
    "        * Si el profesor no imparte `asignatura`, se mostrará el mensaje \"El profesor '{nombre}' NO imparte '{asignatura}'\"."
   ]
  },
  {
   "cell_type": "code",
   "execution_count": 3,
   "id": "99bb37d3",
   "metadata": {},
   "outputs": [],
   "source": [
    "# Solución\n"
   ]
  }
 ],
 "metadata": {
  "kernelspec": {
   "display_name": "Python 3 (ipykernel)",
   "language": "python",
   "name": "python3"
  },
  "language_info": {
   "codemirror_mode": {
    "name": "ipython",
    "version": 3
   },
   "file_extension": ".py",
   "mimetype": "text/x-python",
   "name": "python",
   "nbconvert_exporter": "python",
   "pygments_lexer": "ipython3",
   "version": "3.8.18"
  },
  "toc": {
   "base_numbering": 1,
   "nav_menu": {},
   "number_sections": true,
   "sideBar": true,
   "skip_h1_title": false,
   "title_cell": "Tabla de contenidos",
   "title_sidebar": "Contents",
   "toc_cell": true,
   "toc_position": {
    "height": "calc(100% - 180px)",
    "left": "10px",
    "top": "150px",
    "width": "462.35px"
   },
   "toc_section_display": true,
   "toc_window_display": true
  }
 },
 "nbformat": 4,
 "nbformat_minor": 5
}
